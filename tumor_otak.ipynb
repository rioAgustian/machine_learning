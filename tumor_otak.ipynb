{
 "cells": [
  {
   "cell_type": "markdown",
   "id": "ecd465eb",
   "metadata": {},
   "source": [
    "## Analisis Klasifikasi Penyakit Tumor Otak Pada Citra Radiografi Menggunakan Metode Support Vector Machines (SVM) Dengan Python\n",
    "\n",
    "Kode ini adalah hasil modifikasi dari penelitian \"Analisis Klasifikasi Penyakit Tumor Otak Pada Citra\n",
    "Radiografi Menggunakan Metode Support Vector Machines (SVM) Dengan\n",
    "Python\" oleh Jihan Suci Ananda. Penelitian tersebut dapat diakses di sini\n",
    "\n",
    "https://repository.unja.ac.id/62246/\n",
    "\n",
    "Data citra kanker otak yang digunakan dapat diakses di sini\n",
    "\n",
    "https://www.kaggle.com/datasets/sartajbhuvaji/brain-tumor-classification-mri/data\n",
    "\n",
    "### Hal yang Perlu Diperbaiki\n",
    "\n",
    "1. Training dilakukan dengan data orde 2000+, tetapi testing dilakukan dengan 40 data. Persoalannya adalah, saat testing dilakukan, dilakukan training lagi dengan menggunakan 80% dari data testing (32 data). Lalu predict dilakukan dengan menggunakan 40 data. Solusinya adalah dengan menggunakan hasil training 2000+ data untuk memprediksi data yang ada pada folder testing.\n",
    "\n",
    "2. Preprocessing masih dapat diekspolr lebih jauh. Ide eksplorasi adalah dengan langsung menggunakan 200 x 200 piksel tanpa perlu merubahnya menjadi 40000 fitur.\n",
    "\n",
    "3. Dapat dilakukan model machine learning yang lain. Barangkali menggunakan regresi linear, neural network, dan lain sebagainya."
   ]
  },
  {
   "cell_type": "markdown",
   "id": "9dcc1b0a",
   "metadata": {},
   "source": [
    "### Load Data"
   ]
  },
  {
   "cell_type": "code",
   "execution_count": 29,
   "id": "6f6ef3d2",
   "metadata": {},
   "outputs": [],
   "source": [
    "import numpy as np\n",
    "import pandas as pd\n",
    "import matplotlib.pyplot as plt\n",
    "from sklearn.model_selection import train_test_split\n",
    "from sklearn.svm import SVC\n",
    "import os\n",
    "import cv2\n",
    "from sklearn.metrics import mean_absolute_error\n",
    "from sklearn.metrics import mean_squared_error\n",
    "from sklearn.metrics import accuracy_score\n",
    "from sklearn.metrics import f1_score\n",
    "\n",
    "directory_path = r\"C:\\Users\\Rio Agustian\\Documents\\S2\\CODE\\archive\\Training\"\n",
    "path = os.listdir(directory_path)\n",
    "classes = {'no_tumor':0, 'pituitary_tumor':1, 'meningioma_tumor':2, 'glioma_tumor':3}"
   ]
  },
  {
   "cell_type": "code",
   "execution_count": 35,
   "id": "b4223bca",
   "metadata": {},
   "outputs": [],
   "source": [
    "X = []\n",
    "Y = []\n",
    "for i in classes:\n",
    "    pth = r\"C:\\Users\\Rio Agustian\\Documents\\S2\\CODE\\archive\\Training\\\\\"+i\n",
    "    for j in os.listdir(pth):\n",
    "        img = cv2.imread(pth+'/'+j, 0)\n",
    "        img = cv2.resize(img, (200, 200))\n",
    "        X.append(img)\n",
    "        Y.append(classes[i])    \n",
    "X = np.array(X)\n",
    "Y = np.array(Y)\n",
    "X_new = X.reshape(len(X), -1)"
   ]
  },
  {
   "cell_type": "markdown",
   "id": "f275531c",
   "metadata": {},
   "source": [
    "### Preprocessing"
   ]
  },
  {
   "cell_type": "code",
   "execution_count": 5,
   "id": "4836ff9f",
   "metadata": {},
   "outputs": [],
   "source": [
    "xtrain, xtest, ytrain, ytest = train_test_split(X_new, Y, random_state=10,\n",
    "                                                test_size=.2)\n",
    "xtrain = xtrain/255\n",
    "xtest  = xtest/255"
   ]
  },
  {
   "cell_type": "markdown",
   "id": "bbb1f8ec",
   "metadata": {},
   "source": [
    "### Training Model"
   ]
  },
  {
   "cell_type": "code",
   "execution_count": 17,
   "id": "d52821a9",
   "metadata": {},
   "outputs": [],
   "source": [
    "svc = SVC().fit(xtrain, ytrain)"
   ]
  },
  {
   "cell_type": "markdown",
   "id": "aa47dce4",
   "metadata": {},
   "source": [
    "### Model Evaluasi"
   ]
  },
  {
   "cell_type": "code",
   "execution_count": 18,
   "id": "999a17b7",
   "metadata": {},
   "outputs": [
    {
     "name": "stdout",
     "output_type": "stream",
     "text": [
      "0.9412020905923345\n"
     ]
    }
   ],
   "source": [
    "print(svc.score(xtrain, ytrain))"
   ]
  },
  {
   "cell_type": "code",
   "execution_count": 19,
   "id": "cd245490",
   "metadata": {},
   "outputs": [],
   "source": [
    "pred = svc.predict(xtest)"
   ]
  },
  {
   "cell_type": "code",
   "execution_count": 20,
   "id": "ea58c246",
   "metadata": {},
   "outputs": [
    {
     "name": "stdout",
     "output_type": "stream",
     "text": [
      "Mean Absolute Error = 0.21\n",
      "Mean Squared Error = 0.32\n",
      "Root Mean Squared Error = 0.56\n",
      "Accuracy = 0.83\n",
      "f1 score = 0.83\n"
     ]
    }
   ],
   "source": [
    "from sklearn.metrics import mean_absolute_error\n",
    "from sklearn.metrics import mean_squared_error\n",
    "from sklearn.metrics import accuracy_score\n",
    "from sklearn.metrics import f1_score\n",
    "\n",
    "mae = mean_absolute_error(ytest, pred)\n",
    "mse = mean_squared_error(ytest, pred)\n",
    "acc = accuracy_score(ytest, pred)\n",
    "f1  = f1_score(ytest, pred, average=\"macro\")\n",
    "\n",
    "print(\"Mean Absolute Error = {:.2f}\".format(mae))\n",
    "print(\"Mean Squared Error = {:.2f}\".format(mse))\n",
    "print(\"Root Mean Squared Error = {:.2f}\".format(np.sqrt(mse)))\n",
    "print(\"Accuracy = {:.2f}\".format(acc))\n",
    "print(\"F1 score = {:.2f}\".format(f1))"
   ]
  },
  {
   "cell_type": "markdown",
   "id": "99572090",
   "metadata": {},
   "source": [
    "### Data Baru"
   ]
  },
  {
   "cell_type": "code",
   "execution_count": 23,
   "id": "a8726a88",
   "metadata": {},
   "outputs": [],
   "source": [
    "X1 = []\n",
    "Y1 = []\n",
    "for i in classes:\n",
    "    pth = r\"C:\\Users\\Rio Agustian\\Documents\\S2\\CODE\\archive\\Testing\\\\\"+i\n",
    "    k = 0\n",
    "    for j in os.listdir(pth):\n",
    "        img = cv2.imread(pth+'/'+j, 0)\n",
    "        img = cv2.resize(img, (200, 200))\n",
    "        X1.append(img)\n",
    "        Y1.append(classes[i]) \n",
    "        k = k + 1\n",
    "        if k >= 10:\n",
    "            break"
   ]
  },
  {
   "cell_type": "code",
   "execution_count": 22,
   "id": "a4d5cfc1",
   "metadata": {},
   "outputs": [
    {
     "data": {
      "text/plain": [
       "(40, 200, 200)"
      ]
     },
     "execution_count": 22,
     "metadata": {},
     "output_type": "execute_result"
    }
   ],
   "source": [
    "X1 = np.array(X1)\n",
    "Y1 = np.array(Y1)\n",
    "X1_new = X1.reshape(len(X1), -1)\n",
    "\n",
    "X1_new = X1_new/255\n",
    "X1.shape"
   ]
  },
  {
   "cell_type": "code",
   "execution_count": 31,
   "id": "f5fd6957",
   "metadata": {},
   "outputs": [],
   "source": [
    "xtrain1, xtest1, ytrain1, ytest1 = train_test_split(X1_new, Y1, random_state=10,\n",
    "                                                test_size=.2)\n",
    "svc1 = SVC(kernel=\"linear\").fit(xtrain1, ytrain1)"
   ]
  },
  {
   "cell_type": "code",
   "execution_count": 33,
   "id": "6a315a1e",
   "metadata": {},
   "outputs": [
    {
     "name": "stdout",
     "output_type": "stream",
     "text": [
      "Mean Absolute Error = 0.03\n",
      "Mean Squared Error = 0.03\n",
      "Root Mean Squared Error = 0.16\n",
      "Accuracy = 0.97\n",
      "F1 score = 0.97\n"
     ]
    }
   ],
   "source": [
    "pred1 = svc1.predict(X1_new)\n",
    "\n",
    "mae1 = mean_absolute_error(Y1, pred1)\n",
    "mse1 = mean_squared_error(Y1, pred1)\n",
    "acc1 = accuracy_score(Y1, pred1)\n",
    "f1_1 = f1_score(Y1, pred1, average=\"macro\")\n",
    "\n",
    "print(\"Mean Absolute Error = {:.2f}\".format(mae1))\n",
    "print(\"Mean Squared Error = {:.2f}\".format(mse1))\n",
    "print(\"Root Mean Squared Error = {:.2f}\".format(np.sqrt(mse1)))\n",
    "print(\"Accuracy = {:.2f}\".format(acc1))\n",
    "print(\"F1 score = {:.2f}\".format(f1_1))"
   ]
  }
 ],
 "metadata": {
  "kernelspec": {
   "display_name": "Python 3 (ipykernel)",
   "language": "python",
   "name": "python3"
  },
  "language_info": {
   "codemirror_mode": {
    "name": "ipython",
    "version": 3
   },
   "file_extension": ".py",
   "mimetype": "text/x-python",
   "name": "python",
   "nbconvert_exporter": "python",
   "pygments_lexer": "ipython3",
   "version": "3.10.9"
  }
 },
 "nbformat": 4,
 "nbformat_minor": 5
}
